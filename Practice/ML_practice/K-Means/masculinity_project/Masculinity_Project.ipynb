{
 "cells": [
  {
   "cell_type": "markdown",
   "metadata": {},
   "source": [
    "# Investigate the Data\n",
    "\n",
    "Welcome to the cumulative project on clustering algorithms! In this project, we will be investigating the way people think about masculinity by applying the KMeans algorithm to data from  <a href=\"https://fivethirtyeight.com/\" target = \"_blank\">FiveThirtyEight</a>. FiveThirtyEight is a popular website known for their use of statistical analysis in many of their stories.\n",
    "\n",
    "To begin, take a look at `masculinity-survey.pdf`. FiveThirtyEight and WNYC studios used this survey to get their male readers' thoughts on masculinity. After looking through some of the questions asked, take a look at FiveThirtyEight's article <a href=\"https://fivethirtyeight.com/features/what-do-men-think-it-means-to-be-a-man/\" target = \"_blank\">What Do Men Think It Means To Be A Man?</a> to see their major takeaways. We're going to try to find more insights using machine learning.\n",
    "\n",
    "In the code block below, we've loaded `masculinity.csv` into a DataFrame named `survey`. This file contains the raw responses to the masculinity survey. Let's start getting a sense of how this data is structured. Try to answer these questions using your Pandas knowledge:\n",
    "* What are the names of the columns? How do those columns relate to the questions in the PDF?\n",
    "* How many rows are there?\n",
    "* How is a question with multiple parts, like question 7, represented in the DataFrame?\n",
    "* How many people said they often ask a friend for professional advice? This is the first sub-question in question 7.\n",
    "\n",
    "To answer that last question, use the `value_counts()` function. For example, `df[\"col_a\"].value_counts()` gives you a nice summary of the values found in `\"col_a\"` of the DataFrame `df`.\n",
    "\n",
    "You may also want to print `survey.head()` to get a sense of all of the columns.\n"
   ]
  },
  {
   "cell_type": "code",
   "execution_count": 86,
   "metadata": {},
   "outputs": [
    {
     "name": "stdout",
     "output_type": "stream",
     "text": [
      "<class 'pandas.core.frame.DataFrame'>\n",
      "RangeIndex: 1189 entries, 0 to 1188\n",
      "Data columns (total 98 columns):\n",
      " #   Column       Non-Null Count  Dtype  \n",
      "---  ------       --------------  -----  \n",
      " 0   Unnamed: 0   1189 non-null   int64  \n",
      " 1   StartDate    1189 non-null   object \n",
      " 2   EndDate      1189 non-null   object \n",
      " 3   q0001        1189 non-null   object \n",
      " 4   q0002        1189 non-null   object \n",
      " 5   q0004_0001   1189 non-null   object \n",
      " 6   q0004_0002   1189 non-null   object \n",
      " 7   q0004_0003   1189 non-null   object \n",
      " 8   q0004_0004   1189 non-null   object \n",
      " 9   q0004_0005   1189 non-null   object \n",
      " 10  q0004_0006   1189 non-null   object \n",
      " 11  q0005        1189 non-null   object \n",
      " 12  q0007_0001   1189 non-null   object \n",
      " 13  q0007_0002   1189 non-null   object \n",
      " 14  q0007_0003   1189 non-null   object \n",
      " 15  q0007_0004   1189 non-null   object \n",
      " 16  q0007_0005   1189 non-null   object \n",
      " 17  q0007_0006   1189 non-null   object \n",
      " 18  q0007_0007   1189 non-null   object \n",
      " 19  q0007_0008   1189 non-null   object \n",
      " 20  q0007_0009   1189 non-null   object \n",
      " 21  q0007_0010   1189 non-null   object \n",
      " 22  q0007_0011   1189 non-null   object \n",
      " 23  q0008_0001   1189 non-null   object \n",
      " 24  q0008_0002   1189 non-null   object \n",
      " 25  q0008_0003   1189 non-null   object \n",
      " 26  q0008_0004   1189 non-null   object \n",
      " 27  q0008_0005   1189 non-null   object \n",
      " 28  q0008_0006   1189 non-null   object \n",
      " 29  q0008_0007   1189 non-null   object \n",
      " 30  q0008_0008   1189 non-null   object \n",
      " 31  q0008_0009   1189 non-null   object \n",
      " 32  q0008_0010   1189 non-null   object \n",
      " 33  q0008_0011   1189 non-null   object \n",
      " 34  q0008_0012   1189 non-null   object \n",
      " 35  q0009        1189 non-null   object \n",
      " 36  q0010_0001   576 non-null    object \n",
      " 37  q0010_0002   576 non-null    object \n",
      " 38  q0010_0003   576 non-null    object \n",
      " 39  q0010_0004   576 non-null    object \n",
      " 40  q0010_0005   576 non-null    object \n",
      " 41  q0010_0006   576 non-null    object \n",
      " 42  q0010_0007   576 non-null    object \n",
      " 43  q0010_0008   576 non-null    object \n",
      " 44  q0011_0001   576 non-null    object \n",
      " 45  q0011_0002   576 non-null    object \n",
      " 46  q0011_0003   576 non-null    object \n",
      " 47  q0011_0004   576 non-null    object \n",
      " 48  q0011_0005   576 non-null    object \n",
      " 49  q0012_0001   576 non-null    object \n",
      " 50  q0012_0002   576 non-null    object \n",
      " 51  q0012_0003   576 non-null    object \n",
      " 52  q0012_0004   576 non-null    object \n",
      " 53  q0012_0005   576 non-null    object \n",
      " 54  q0012_0006   576 non-null    object \n",
      " 55  q0012_0007   576 non-null    object \n",
      " 56  q0013        29 non-null     object \n",
      " 57  q0014        576 non-null    object \n",
      " 58  q0015        485 non-null    object \n",
      " 59  q0017        1189 non-null   object \n",
      " 60  q0018        1189 non-null   object \n",
      " 61  q0019_0001   925 non-null    object \n",
      " 62  q0019_0002   925 non-null    object \n",
      " 63  q0019_0003   925 non-null    object \n",
      " 64  q0019_0004   925 non-null    object \n",
      " 65  q0019_0005   925 non-null    object \n",
      " 66  q0019_0006   925 non-null    object \n",
      " 67  q0019_0007   925 non-null    object \n",
      " 68  q0020_0001   1189 non-null   object \n",
      " 69  q0020_0002   1189 non-null   object \n",
      " 70  q0020_0003   1189 non-null   object \n",
      " 71  q0020_0004   1189 non-null   object \n",
      " 72  q0020_0005   1189 non-null   object \n",
      " 73  q0020_0006   1189 non-null   object \n",
      " 74  q0021_0001   1189 non-null   object \n",
      " 75  q0021_0002   1189 non-null   object \n",
      " 76  q0021_0003   1189 non-null   object \n",
      " 77  q0021_0004   1189 non-null   object \n",
      " 78  q0022        1189 non-null   object \n",
      " 79  q0024        1189 non-null   object \n",
      " 80  q0025_0001   1189 non-null   object \n",
      " 81  q0025_0002   1189 non-null   object \n",
      " 82  q0025_0003   1189 non-null   object \n",
      " 83  q0026        1189 non-null   object \n",
      " 84  q0028        1189 non-null   object \n",
      " 85  q0029        1189 non-null   object \n",
      " 86  q0030        1189 non-null   object \n",
      " 87  q0034        1187 non-null   object \n",
      " 88  q0035        1177 non-null   object \n",
      " 89  q0036        1187 non-null   object \n",
      " 90  race2        1189 non-null   object \n",
      " 91  racethn4     1189 non-null   object \n",
      " 92  educ3        1188 non-null   object \n",
      " 93  educ4        1188 non-null   object \n",
      " 94  age3         1188 non-null   object \n",
      " 95  kids         1183 non-null   object \n",
      " 96  orientation  1188 non-null   object \n",
      " 97  weight       1188 non-null   float64\n",
      "dtypes: float64(1), int64(1), object(96)\n",
      "memory usage: 910.5+ KB\n",
      "None\n"
     ]
    }
   ],
   "source": [
    "import pandas as pd\n",
    "\n",
    "survey = pd.read_csv(\"masculinity.csv\")\n",
    "# print(survey.head())\n",
    "# print(survey.columns)\n",
    "print(survey.info())\n",
    "# print(survey[\"q0007_0001\"].value_counts())\n"
   ]
  },
  {
   "cell_type": "markdown",
   "metadata": {},
   "source": [
    "# Mapping the Data\n",
    "\n",
    "In order for us to start thinking about using the KMeans algorithm with this data, we need to first figure out how to turn these responses into numerical data. Let's once again consider question 7. We can't cluster the data using the phrases `\"Often\"` or `\"Rarely\"`, but we can turn those phrases into numbers. For example, we could map the data in the following way: \n",
    "* `\"Often\"` -> `4`\n",
    "* `\"Sometimes\"` ->  `3`\n",
    "* `\"Rarely\"` -> `2` \n",
    "* `\"Never, but open to it\"` -> `1`\n",
    "* `\"Never, and not open to it\"` -> `0`.\n",
    "\n",
    "Note that it's important that these responses are somewhat linear. `\"Often\"` is at one end of the spectrum with `\"Never, and not open to it\"` at the other. The other values fall in sequence between the two. You could perform a similar mapping for the `\"educ4\"` responses (question 29), but there isn't an obvious linear progression in the `\"racethn4\"` responses (question 28).\n",
    "\n",
    "In order to do this transformation, use the `map()` function. `map()` takes a dictionary as a parameter. For example, the following line of code would turn all the `\"A\"`s into `1`s and all the `\"B\"`s into `2`s in the column `\"col_one\"`.\n",
    "\n",
    "```py\n",
    "df[\"col_one\"] = df[\"col_one\"].map({\"A\": 1, \"B\": 2})\n",
    "```\n",
    "\n",
    "We've given you a list of the columns that should be mapped. Loop through the values of the list and map each column using the mapping described above.\n",
    "\n",
    "Be careful of your spelling! Punctuation and whitespace is important. Take a look at the `value_counts()` of one of these columns to see if the mapping worked.\n"
   ]
  },
  {
   "cell_type": "code",
   "execution_count": 87,
   "metadata": {},
   "outputs": [
    {
     "name": "stdout",
     "output_type": "stream",
     "text": [
      "3.0    537\n",
      "2.0    324\n",
      "4.0    142\n",
      "1.0    123\n",
      "0.0     53\n",
      "NaN     10\n",
      "Name: q0007_0001, dtype: int64\n",
      "3.0    514\n",
      "2.0    387\n",
      "4.0    123\n",
      "1.0    101\n",
      "0.0     50\n",
      "NaN     14\n",
      "Name: q0007_0002, dtype: int64\n",
      "3.0    364\n",
      "2.0    339\n",
      "0.0    224\n",
      "4.0    166\n",
      "1.0     85\n",
      "NaN     11\n",
      "Name: q0007_0003, dtype: int64\n",
      "2.0    505\n",
      "3.0    371\n",
      "1.0    121\n",
      "0.0     78\n",
      "NaN     71\n",
      "4.0     43\n",
      "Name: q0007_0004, dtype: int64\n",
      "0.0    710\n",
      "1.0    228\n",
      "2.0    217\n",
      "3.0     22\n",
      "4.0      7\n",
      "NaN      5\n",
      "Name: q0007_0005, dtype: int64\n",
      "4.0    427\n",
      "3.0    384\n",
      "2.0    155\n",
      "0.0    102\n",
      "1.0     91\n",
      "NaN     30\n",
      "Name: q0007_0006, dtype: int64\n",
      "0.0    1001\n",
      "1.0      60\n",
      "3.0      41\n",
      "4.0      39\n",
      "2.0      31\n",
      "NaN      17\n",
      "Name: q0007_0007, dtype: int64\n",
      "4.0    482\n",
      "3.0    344\n",
      "2.0    216\n",
      "0.0     93\n",
      "1.0     43\n",
      "NaN     11\n",
      "Name: q0007_0008, dtype: int64\n",
      "3.0    353\n",
      "2.0    316\n",
      "4.0    296\n",
      "0.0     95\n",
      "1.0     95\n",
      "NaN     34\n",
      "Name: q0007_0009, dtype: int64\n",
      "1.0    464\n",
      "0.0    355\n",
      "2.0    189\n",
      "3.0     97\n",
      "4.0     58\n",
      "NaN     26\n",
      "Name: q0007_0010, dtype: int64\n",
      "2.0    456\n",
      "3.0    339\n",
      "0.0    187\n",
      "4.0    111\n",
      "1.0     75\n",
      "NaN     21\n",
      "Name: q0007_0011, dtype: int64\n"
     ]
    }
   ],
   "source": [
    "cols_to_map = [\"q0007_0001\", \"q0007_0002\", \"q0007_0003\", \"q0007_0004\",\n",
    "       \"q0007_0005\", \"q0007_0006\", \"q0007_0007\", \"q0007_0008\", \"q0007_0009\",\n",
    "       \"q0007_0010\", \"q0007_0011\"]\n",
    "\n",
    "for col in cols_to_map:\n",
    "       survey[col] = survey[col].map({'Often':4,'Sometimes':3,'Rarely':2,'Never, but open to it':1,'Never, and not open to it':0})\n",
    "       print(survey[col].value_counts(dropna = False))\n"
   ]
  },
  {
   "cell_type": "markdown",
   "metadata": {},
   "source": [
    "# Plotting the Data\n",
    "\n",
    "We now have 11 different features that we could use in our KMeans algorithm. Before we jump into clustering, let's graph some of these features on a 2D graph. Call `plt.scatter` using `survey[\"q0007_0001\"]` and `survey[\"q0007_0002\"]` as parameters. Include `alpha = 0.1`. We want to include `alpha` because many of the data points will be on top of each other. Adding `alpha` will make the points appear more solid if there are many stacked on top of each other.\n",
    "\n",
    "Include axis labels on your graph. The x-axis corresponds with the first column you gave the `scatter()` function. So in this case, it corresponds to the question about asking a friend for professional advice.\n",
    "\n",
    "Does it make sense that there are few points in the top left and bottom right corners of the graph? Why? Try graphing other dimensions against each other. Are there any combinations that give you surprising results?\n"
   ]
  },
  {
   "cell_type": "code",
   "execution_count": 88,
   "metadata": {},
   "outputs": [
    {
     "data": {
      "image/png": "[encoded data removed]",
      "text/plain": [
       "<Figure size 432x288 with 1 Axes>"
      ]
     },
     "metadata": {
      "needs_background": "light"
     },
     "output_type": "display_data"
    }
   ],
   "source": [
    "from matplotlib import pyplot as plt\n",
    "plt.scatter(survey['q0007_0001'],survey[\"q0007_0002\"],alpha = 0.1)\n",
    "plt.xlabel(\"Ask a friend for professional advice\")\n",
    "plt.ylabel(\"Ask a friend for personal advice\")\n",
    "plt.show()"
   ]
  },
  {
   "cell_type": "markdown",
   "metadata": {},
   "source": [
    "# Build the KMeans Model\n",
    "\n",
    "It's now time to start clustering! There are so many interesting questions we could ask about this data. Let's start by seeing if clusters form based on traditionally masculine concepts. \n",
    "\n",
    "Take a look at the first four sub-questions in question 7. Those four activities aren't necessarily seen as traditionally masculine. On the other hand, sub-questions 5, 8, and 9 are often seen as very masculine activities. What would happen if we found 2 clusters based on those 7 questions? Would we find clusters that represent traditionally feminine and traditionally masculine people? Let's find out.\n",
    "\n",
    "We need to first drop all of the rows that contain a `NaN` value in any of the columns we're interested in. Create a new variable named `rows_to_cluster` and set it equal to the result of calling `dropna` on `survey`. `dropna` should have a parameter `subset` equal to a list of the 7 columns we want. If you don't include `subset`, the function will drop all rows that have an `NaN` in *any* column. This would drop almost all the rows in the dataframe!\n",
    "\n",
    "Create a `KMeans` object named `classifier` where `n_clusters = 2`. Call `classifier`'s `.fit()` method. The parameter of `.fit()` should be the 7 columns we're interested in. For example, the following line of code will fit the model based on the columns `\"col_one\"` and `\"col_two\"` of the Dataframe `df`. \n",
    "\n",
    "```py\n",
    "classifier.fit(df[[\"col_one\", \"col_two\"]])\n",
    "```\n",
    "\n",
    "Make sure to only include the columns that you want to train off of. Make sure to use `rows_to_cluster` rather than `survey` to avoid including those `NaN`s!\n",
    "\n",
    "\n",
    "\n",
    "After fitting your model, print out the model's `cluster_centers_`.\n"
   ]
  },
  {
   "cell_type": "code",
   "execution_count": 98,
   "metadata": {},
   "outputs": [
    {
     "name": "stdout",
     "output_type": "stream",
     "text": [
      "[[1.90933333 1.87466667 0.83466667 1.736      0.576      2.672\n",
      "  2.        ]\n",
      " [2.83775811 2.81120944 2.85988201 2.39380531 0.69764012 3.06342183\n",
      "  2.89233038]]\n"
     ]
    },
    {
     "data": {
      "text/plain": [
       "<AxesSubplot:>"
      ]
     },
     "execution_count": 98,
     "metadata": {},
     "output_type": "execute_result"
    },
    {
     "data": {
      "image/png": "[encoded data removed]",
      "text/plain": [
       "<Figure size 432x288 with 2 Axes>"
      ]
     },
     "metadata": {
      "needs_background": "light"
     },
     "output_type": "display_data"
    }
   ],
   "source": [
    "from sklearn.cluster import KMeans\n",
    "import seaborn as sns\n",
    "\n",
    "rows_to_cluster = survey.dropna(subset = [\"q0007_0001\", \"q0007_0002\", \"q0007_0003\", \"q0007_0004\", \"q0007_0005\", \"q0007_0008\", \"q0007_0009\"])\n",
    "classifier = KMeans(n_clusters = 2)\n",
    "classifier.fit(rows_to_cluster[[\"q0007_0001\", \"q0007_0002\", \"q0007_0003\", \"q0007_0004\", \"q0007_0005\", \"q0007_0008\", \"q0007_0009\"]])\n",
    "print(classifier.cluster_centers_)\n",
    "\n",
    "sns.heatmap(rows_to_cluster[[\"q0007_0001\", \"q0007_0002\", \"q0007_0003\", \"q0007_0004\", \"q0007_0005\", \"q0007_0008\", \"q0007_0009\"]].corr(),cmap='OrRd',annot=True,fmt=\".2f\")"
   ]
  },
  {
   "cell_type": "markdown",
   "metadata": {},
   "source": [
    "# Separate the Cluster Members\n",
    "\n",
    "When we look at the two clusters, the first four numbers represent the traditionally feminine activities and the last three represent the traditionally masculine activities. If the data points separated into a feminine cluser and a masculine cluseter, we would expect to see one cluster to have high values for the first four numbers and the other cluster to have high values for the last three numbers.\n",
    "\n",
    "Instead, the first cluster has a higher value in every feature. Since a higher number means the person was more likely to \"often\" do something, the clusters seem to represent \"people who do things\" and \"people who don't do things\".\n",
    "\n",
    "We might be able to find out more information about these clusters by looking at the specific members of each cluster. Print `classifier.labels_`. This list shows which cluster every row in the DataFrame corresponds to.\n",
    "\n",
    "For example,  if `classifier.labels_` was `[1, 0 ,1]`, then the first row in the DataFrame would be in cluster one, the second row would be in cluster 0, and the third row would be in cluster one. A row represents one persons answers to every question in the survey.\n",
    "\n",
    "Create two new empty lists named `cluster_zero_indices` and `cluster_one_indices`. Loop through `classifier.labels_` and whenever a label is `0` add that index to `cluster_zero_indices`. Do the same whenever a label is a `1`.\n",
    "\n",
    "Print `cluster_zero_indices`"
   ]
  },
  {
   "cell_type": "code",
   "execution_count": 90,
   "metadata": {},
   "outputs": [
    {
     "name": "stdout",
     "output_type": "stream",
     "text": [
      "[0 1 0 ... 1 1 1]\n",
      "[0, 2, 3, 5, 8, 11, 13, 15, 16, 20, 21, 22, 23, 25, 26, 27, 28, 30, 31, 32, 33, 34, 36, 37, 38, 40, 41, 43, 44, 45, 46, 47, 48, 50, 56, 59, 60, 61, 64, 67, 68, 69, 70, 71, 72, 73, 74, 76, 77, 80, 81, 83, 85, 91, 93, 96, 99, 100, 102, 103, 104, 105, 108, 110, 111, 112, 114, 115, 118, 120, 121, 122, 124, 125, 126, 127, 133, 135, 136, 137, 138, 140, 141, 144, 145, 146, 147, 148, 149, 150, 151, 152, 153, 155, 156, 157, 158, 159, 160, 161, 162, 163, 164, 165, 166, 167, 168, 169, 170, 171, 173, 174, 177, 182, 183, 185, 186, 188, 190, 191, 192, 193, 194, 197, 200, 202, 203, 204, 205, 206, 207, 208, 210, 211, 213, 214, 215, 216, 217, 218, 219, 220, 221, 223, 224, 225, 226, 227, 228, 232, 234, 235, 238, 239, 242, 243, 244, 245, 246, 251, 252, 253, 254, 255, 257, 258, 259, 262, 265, 266, 267, 268, 269, 270, 271, 273, 274, 276, 277, 278, 279, 280, 282, 285, 287, 289, 290, 292, 293, 294, 295, 298, 302, 303, 304, 306, 307, 308, 309, 312, 313, 314, 315, 316, 317, 318, 319, 320, 321, 322, 323, 324, 326, 327, 329, 330, 332, 333, 334, 335, 338, 339, 342, 344, 345, 346, 348, 349, 352, 354, 355, 356, 357, 358, 359, 360, 362, 363, 364, 365, 366, 368, 370, 371, 372, 373, 374, 375, 376, 379, 380, 381, 382, 383, 384, 385, 386, 387, 388, 389, 395, 400, 401, 402, 403, 404, 405, 406, 407, 408, 413, 414, 416, 420, 421, 422, 423, 424, 426, 427, 430, 431, 433, 434, 435, 436, 437, 438, 439, 440, 441, 442, 443, 444, 445, 446, 447, 448, 450, 451, 452, 453, 456, 458, 460, 462, 464, 465, 466, 467, 469, 472, 473, 474, 475, 479, 480, 481, 482, 483, 485, 486, 487, 488, 491, 492, 495, 497, 500, 501, 503, 504, 505, 506, 507, 511, 512, 513, 514, 517, 518, 519, 520, 522, 524, 527, 528, 530, 532, 534, 535, 536, 537, 538, 539, 540, 541, 543, 544, 545, 547, 548, 550, 551, 552, 553, 554, 557, 558, 561, 565, 568, 569, 571, 572, 573, 574, 575, 576, 578, 581, 582, 583, 584, 586, 587, 590, 591, 594, 595, 596, 597, 598, 600, 601, 602, 604, 605, 606, 607, 608, 609, 611, 612, 613, 614, 615, 618, 621, 623, 624, 627, 628, 630, 632, 633, 635, 640, 641, 642, 643, 644, 645, 646, 647, 648, 650, 652, 653, 657, 658, 660, 661, 663, 664, 665, 666, 667, 668, 670, 671, 672, 673, 674, 675, 676, 678, 679, 680, 682, 684, 688, 689, 690, 693, 694, 695, 698, 699, 700, 701, 703, 704, 705, 706, 707, 708, 709, 711, 712, 713, 714, 715, 716, 717, 724, 725, 727, 729, 731, 732, 733, 734, 735, 737, 739, 740, 742, 743, 746, 747, 752, 753, 754, 755, 756, 757, 760, 761, 763, 764, 765, 767, 770, 771, 773, 774, 779, 780, 781, 784, 785, 786, 791, 793, 796, 798, 802, 804, 806, 807, 808, 809, 811, 812, 813, 815, 816, 817, 818, 819, 820, 822, 823, 824, 825, 828, 829, 830, 832, 833, 834, 835, 836, 838, 840, 841, 842, 844, 845, 846, 847, 850, 851, 852, 854, 855, 857, 859, 861, 862, 863, 864, 865, 866, 867, 869, 870, 873, 876, 877, 878, 881, 885, 887, 888, 889, 890, 891, 893, 899, 903, 905, 906, 907, 908, 909, 910, 912, 913, 915, 916, 917, 920, 921, 925, 926, 927, 928, 930, 931, 933, 934, 935, 937, 938, 940, 941, 942, 944, 945, 946, 947, 949, 950, 951, 952, 953, 955, 956, 957, 959, 960, 964, 965, 966, 969, 972, 973, 975, 976, 977, 979, 980, 981, 983, 984, 986, 988, 990, 992, 994, 995, 996, 997, 999, 1001, 1002, 1004, 1005, 1006, 1008, 1009, 1010, 1012, 1015, 1017, 1018, 1019, 1020, 1021, 1022, 1023, 1024, 1026, 1027, 1028, 1029, 1030, 1031, 1032, 1033, 1034, 1035, 1040, 1041, 1043, 1044, 1047, 1049, 1051, 1052, 1053, 1056, 1058, 1059, 1060]\n"
     ]
    }
   ],
   "source": [
    "print(classifier.labels_)\n",
    "cluster_zero_indices = []\n",
    "cluster_one_indices = []\n",
    "for i in range(len(classifier.labels_)):\n",
    "    if classifier.labels_[i] == 0:\n",
    "        cluster_zero_indices.append(i)\n",
    "    elif classifier.labels_[i] == 1:\n",
    "        cluster_one_indices.append(i)\n",
    "        \n",
    "print(cluster_zero_indices)"
   ]
  },
  {
   "cell_type": "markdown",
   "metadata": {},
   "source": [
    "# Investigate the Cluster Members\n",
    "\n",
    "Now that we have the indices for each cluster, let's look at some stats about these two clusters. You can get the rows of the DataFrame that correspond to cluster zero by doing the following:\n",
    "\n",
    "```py\n",
    "cluster_zero_df = rows_to_cluster.iloc[cluster_zero_indices]\n",
    "```\n",
    "\n",
    "Do the same for `cluster_one_df`.\n",
    "\n",
    "Finally, let's look at some information about these two clusters. Print the `value_counts()` of the `educ4` column of each cluster. What do you notice? Try looking at different columns. For example, are the people in cluster zero significantly older than those in cluster one? You can look at the `age3` column to see.\n",
    "\n",
    "If you divide the result of `value_counts()` by the size of the cluster, you get the percentage of people in each category rather than the total number. This will make it easier to compare the two clusters."
   ]
  },
  {
   "cell_type": "code",
   "execution_count": 91,
   "metadata": {
    "scrolled": true
   },
   "outputs": [
    {
     "name": "stdout",
     "output_type": "stream",
     "text": [
      "Post graduate degree    0.365357\n",
      "College or more         0.330422\n",
      "Some college            0.231441\n",
      "High school or less     0.072780\n",
      "Name: educ4, dtype: float64\n",
      "Some college            0.312997\n",
      "College or more         0.286472\n",
      "Post graduate degree    0.251989\n",
      "High school or less     0.145889\n",
      "Name: educ4, dtype: float64\n"
     ]
    }
   ],
   "source": [
    "cluster_zero_df = rows_to_cluster.iloc[cluster_zero_indices]\n",
    "cluster_one_df = rows_to_cluster.iloc[cluster_one_indices]\n",
    "\n",
    "print(cluster_zero_df['educ4'].value_counts()/len(cluster_zero_df))\n",
    "print(cluster_one_df['educ4'].value_counts()/len(cluster_one_df))"
   ]
  },
  {
   "cell_type": "markdown",
   "metadata": {},
   "source": [
    "# Explore on Your Own\n",
    "\n",
    "Great work! You've found out that by answering those 7 questions people don't fall into a \"masculine\" category or a \"feminine\" category. Instead, they seem to be divided by their level of education!\n",
    "\n",
    "Now it's time for you to explore this data on your own. In this project, we've really focused on question 7 and its sub-questions. Take a look at some of the other questions in the survey and try to ask yourself some interesting questions. Here's a list of questions you could dive into:\n",
    "\n",
    "* Which demographic features have stronger correlations with ideas of masculinity (sexual orientation, age, race, marital status, parenthood?)\n",
    "* Are certain beliefs or actions linked to more self-described masculine or feminine individuals?\n",
    "* How do insecurities change as people grow older?\n",
    "\n",
    "\n",
    "Special thanks to the team at FiveThirtyEight and specifically Dhrumil Mehta for giving us access to the data!\n"
   ]
  },
  {
   "cell_type": "code",
   "execution_count": 92,
   "metadata": {},
   "outputs": [
    {
     "name": "stdout",
     "output_type": "stream",
     "text": [
      "White       0.855895\n",
      "Other       0.082969\n",
      "Hispanic    0.034934\n",
      "Black       0.026201\n",
      "Name: racethn4, dtype: float64\n",
      "White       0.832891\n",
      "Other       0.079576\n",
      "Black       0.047745\n",
      "Hispanic    0.037135\n",
      "W           0.002653\n",
      "Name: racethn4, dtype: float64\n"
     ]
    }
   ],
   "source": [
    "print(cluster_zero_df['racethn4'].value_counts(dropna = False)/len(cluster_zero_df))\n",
    "print(cluster_one_df['racethn4'].value_counts(dropna = False)/len(cluster_one_df))"
   ]
  },
  {
   "cell_type": "code",
   "execution_count": 93,
   "metadata": {},
   "outputs": [
    {
     "name": "stdout",
     "output_type": "stream",
     "text": [
      "35 - 64      0.478894\n",
      "65 and up    0.454148\n",
      "18 - 34      0.066958\n",
      "Name: age3, dtype: float64\n",
      "65 and up    0.503979\n",
      "35 - 64      0.432361\n",
      "18 - 34      0.061008\n",
      "NaN          0.002653\n",
      "Name: age3, dtype: float64\n"
     ]
    }
   ],
   "source": [
    "print(cluster_zero_df['age3'].value_counts(dropna = False)/len(cluster_zero_df))\n",
    "print(cluster_one_df['age3'].value_counts(dropna = False)/len(cluster_one_df))"
   ]
  },
  {
   "cell_type": "markdown",
   "metadata": {},
   "source": [
    "#### How do insecurities change as people grow older?"
   ]
  },
  {
   "cell_type": "code",
   "execution_count": 94,
   "metadata": {},
   "outputs": [
    {
     "name": "stdout",
     "output_type": "stream",
     "text": [
      "2.0    456\n",
      "3.0    339\n",
      "0.0    187\n",
      "4.0    111\n",
      "1.0     75\n",
      "NaN     21\n",
      "Name: q0007_0011, dtype: int64\n",
      "2.0    456\n",
      "3.0    339\n",
      "0.0    187\n",
      "4.0    111\n",
      "1.0     75\n",
      "NaN     21\n",
      "Name: q0007_0011, dtype: int64\n"
     ]
    }
   ],
   "source": [
    "# How do insecurities change as people grow older?\n",
    "\n",
    "cols_to_map = [\"q0001\", \"q0002\"]\n",
    "\n",
    "survey[\"q0001\"] = survey[\"q0001\"].map({'Very masculine':3,'Somewhat masculine':2,'Not very masculine':1,'Not at all masculine':0})\n",
    "print(survey[col].value_counts(dropna = False))\n",
    "\n",
    "survey[\"q0002\"] = survey[\"q0002\"].map({'Very important':3,'Somewhat important':2,'Not too important':1,'Not at all important':0})\n",
    "print(survey[col].value_counts(dropna = False))"
   ]
  },
  {
   "cell_type": "code",
   "execution_count": 95,
   "metadata": {},
   "outputs": [
    {
     "data": {
      "image/png": "[encoded data removed]",
      "text/plain": [
       "<Figure size 432x288 with 1 Axes>"
      ]
     },
     "metadata": {
      "needs_background": "light"
     },
     "output_type": "display_data"
    }
   ],
   "source": [
    "from matplotlib import pyplot as plt\n",
    "plt.scatter(survey['q0001'],survey[\"q0002\"],alpha = 0.1)\n",
    "plt.xlabel(\"How masculine or “manly” do you feel\")\n",
    "plt.ylabel(\"How important is it to you that others see you as masculine?\")\n",
    "plt.show()"
   ]
  },
  {
   "cell_type": "code",
   "execution_count": 97,
   "metadata": {},
   "outputs": [
    {
     "name": "stdout",
     "output_type": "stream",
     "text": [
      "[[2.38538206 2.22923588]\n",
      " [2.12565445 0.69808028]]\n",
      "35 - 64      0.480066\n",
      "65 and up    0.460133\n",
      "18 - 34      0.058140\n",
      "Name: age3, dtype: float64\n",
      "65 and up    0.521815\n",
      "35 - 64      0.418848\n",
      "18 - 34      0.059337\n",
      "Name: age3, dtype: float64\n"
     ]
    }
   ],
   "source": [
    "survey.dropna(subset = [\"q0001\", \"q0002\"],inplace = True)\n",
    "classifier = KMeans(n_clusters = 2)\n",
    "classifier.fit(survey[[\"q0001\", \"q0002\"]])\n",
    "print(classifier.cluster_centers_)\n",
    "\n",
    "labels = classifier.labels_\n",
    "cluster_zero_df = survey[labels == 0]\n",
    "cluster_one_df = survey[labels == 1]\n",
    "# for i in range(len(classifier.labels_)):\n",
    "#     if classifier.labels_[i] == 0:\n",
    "#         cluster_zero_indices.append(i)\n",
    "#     elif classifier.labels_[i] == 1:\n",
    "#         cluster_one_indices.append(i)\n",
    "\n",
    "# cluster_zero_df = rows_to_cluster.iloc[cluster_zero_indices]\n",
    "# cluster_one_df = rows_to_cluster.iloc[cluster_one_indices]\n",
    "\n",
    "print(cluster_zero_df['age3'].value_counts()/len(cluster_zero_df))\n",
    "print(cluster_one_df['age3'].value_counts()/len(cluster_one_df))"
   ]
  },
  {
   "cell_type": "markdown",
   "metadata": {},
   "source": [
    "We can see that there is a cluster of people who care about what people think and the other one that does not. Older people tend to be in the second cluster."
   ]
  }
 ],
 "metadata": {
  "kernelspec": {
   "display_name": "Python 3",
   "language": "python",
   "name": "python3"
  },
  "language_info": {
   "codemirror_mode": {
    "name": "ipython",
    "version": 3
   },
   "file_extension": ".py",
   "mimetype": "text/x-python",
   "name": "python",
   "nbconvert_exporter": "python",
   "pygments_lexer": "ipython3",
   "version": "3.9.5"
  }
 },
 "nbformat": 4,
 "nbformat_minor": 2
}
